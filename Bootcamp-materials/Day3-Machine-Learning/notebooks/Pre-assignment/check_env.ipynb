{
 "cells": [
  {
   "cell_type": "markdown",
   "metadata": {},
   "source": [
    "## Welcome!\n",
    "\n",
    "Welcome to the 2nd winter [Collaboratory](http://collaboratory.columbia.edu/) **Data Science Bootcamp** for Columbia University PhD students and postdoctoral scholars. \n",
    "\n",
    "In this course, we will cover _selected_ basic and advanced data science and machine learning techniques, with a focus on `Python` skills. It includes online learning material, introductory lectures, hands on laboratory experiences, and guided capstone projects.\n",
    "\n",
    "The Data Science Bootcamp is jointly founded by Columbia University's [Data Science Institute](http://collaboratory.columbia.edu/) and [Columbia Entrepreneurship](https://entrepreneurship.columbia.edu/). The [Collaboratory@Columbia](http://collaboratory.columbia.edu/) is a university-wide program dedicated to supporting collaborative curricula innovations designed to ensure that all Columbia University students receive the education and training that they need to succeed in today’s data rich world.\n",
    "\n",
    "All of the materials developed in this bootcamp are posted on [GitHub](https://github.com/DS-BootCamp-Collaboratory-Columbia/AY2017-2018-Winter)."
   ]
  },
  {
   "cell_type": "markdown",
   "metadata": {},
   "source": [
    "## IPython notebooks\n",
    "\n",
    "In the course, we will work with [IPython](http://ipython.org/) notebooks. This is the first notebook you should run, which checks the computing environment (your Python installations and the versions of your Python pacakges) of your computer.\n",
    "\n",
    "For additional help please see us during the breaks at the bootcamp so that we can offer support to participants that have issues with setting up their computers. \n",
    "\n",
    "If your computer has unresolved issues during lab sessions, please do *NOT* try to resolve it during the lab session. Instead, join a peer first and try to participate in the lab activity together. We can help you with your computer later. \n",
    "\n",
    "From the above menu, select `kernel/restart & run all`. "
   ]
  },
  {
   "cell_type": "code",
   "execution_count": 1,
   "metadata": {
    "collapsed": true
   },
   "outputs": [],
   "source": [
    "# Loading required modules\n",
    "from __future__ import print_function\n",
    "from distutils.version import LooseVersion as Version\n",
    "import sys\n",
    "\n",
    "# Formatting output tags\n",
    "OK = '\\x1b[42m[ OK ]\\x1b[0m'\n",
    "FAIL = \"\\x1b[41m[FAIL]\\x1b[0m\"\n",
    "\n",
    "try:\n",
    "    import importlib\n",
    "except ImportError:\n",
    "    print(FAIL, \"Python version 3.4 (or 2.7) is required,\"\n",
    "                \" but %s is installed.\" % sys.version)"
   ]
  },
  {
   "cell_type": "code",
   "execution_count": 2,
   "metadata": {},
   "outputs": [
    {
     "name": "stdout",
     "output_type": "stream",
     "text": [
      "Using python in /Users/tz33/anaconda\n",
      "2.7.13 |Anaconda custom (x86_64)| (default, Dec 20 2016, 23:05:08) \n",
      "[GCC 4.2.1 Compatible Apple LLVM 6.0 (clang-600.0.57)]\n",
      "\n"
     ]
    }
   ],
   "source": [
    "# first check the python version\n",
    "print('Using python in', sys.prefix)\n",
    "print(sys.version)\n",
    "pyversion = Version(sys.version)\n",
    "if pyversion >= \"3\":\n",
    "    if pyversion < \"3.4\":\n",
    "        print(FAIL, \"Python version 3.4 (or 2.7) is required,\"\n",
    "                    \" but %s is installed.\" % sys.version)\n",
    "elif pyversion >= \"2\":\n",
    "    if pyversion < \"2.7\":\n",
    "        print(FAIL, \"Python version 2.7 is required,\"\n",
    "                    \" but %s is installed.\" % sys.version)\n",
    "else:\n",
    "    print(FAIL, \"Unknown Python version: %s\" % sys.version)\n",
    "\n",
    "print()"
   ]
  },
  {
   "cell_type": "code",
   "execution_count": 3,
   "metadata": {
    "collapsed": true
   },
   "outputs": [],
   "source": [
    "# \n",
    "def import_version(pkg, min_ver, fail_msg=\"\"):\n",
    "    mod = None\n",
    "    try:\n",
    "        mod = importlib.import_module(pkg)\n",
    "        if pkg in {'PIL'}:\n",
    "            ver = mod.VERSION\n",
    "        else:\n",
    "            ver = mod.__version__\n",
    "        if Version(ver) < min_ver:\n",
    "            print(FAIL, \"%s version %s or higher required, but %s installed.\"\n",
    "                  % (lib, min_ver, ver))\n",
    "        else:\n",
    "            print(OK, '%s version %s' % (pkg, ver))\n",
    "    except ImportError:\n",
    "        print(FAIL, '%s not installed. %s' % (pkg, fail_msg))\n",
    "    return mod"
   ]
  },
  {
   "cell_type": "code",
   "execution_count": 4,
   "metadata": {},
   "outputs": [
    {
     "name": "stdout",
     "output_type": "stream",
     "text": [
      "\u001b[42m[ OK ]\u001b[0m ipywidgets version 7.0.5\n",
      "\u001b[42m[ OK ]\u001b[0m scipy version 1.0.0\n",
      "\u001b[42m[ OK ]\u001b[0m PIL version 1.1.7\n",
      "\u001b[42m[ OK ]\u001b[0m seaborn version 0.8.1\n",
      "\u001b[42m[ OK ]\u001b[0m IPython version 4.1.2\n",
      "\u001b[42m[ OK ]\u001b[0m nltk version 3.1\n",
      "\u001b[42m[ OK ]\u001b[0m numpy version 1.9.3\n",
      "\u001b[42m[ OK ]\u001b[0m pandas version 0.22.0\n",
      "\u001b[42m[ OK ]\u001b[0m matplotlib version 2.1.1\n",
      "\u001b[42m[ OK ]\u001b[0m sklearn version 0.19.1\n"
     ]
    }
   ],
   "source": [
    "requirements = {'numpy': \"1.6.1\", 'scipy': \"0.9\", 'matplotlib': \"1.0\",\n",
    "                'IPython': \"3.0\", 'sklearn': \"0.18\", 'pandas': \"0.18\",\n",
    "                'PIL': \"1.1.7\", 'nltk': \"3.1\", 'seaborn': \"0.8.1\", \n",
    "                'ipywidgets': \"4.1.1\"}\n",
    "\n",
    "# now the dependencies\n",
    "for lib, required_version in list(requirements.items()):\n",
    "    import_version(lib, required_version)"
   ]
  },
  {
   "cell_type": "markdown",
   "metadata": {},
   "source": [
    "If no FAIL is returned, congratulations, you are ready to go. \n",
    "\n",
    "If you have some FAILs, do the following according to the items that you received FAIL. \n",
    "\n",
    "+ If your python installation returns FAIL, you should install the [Anaconda Python distribution](https://www.anaconda.com/download/?lang=en-us#linuxQ). Download and install the distribution from the link provided. \n",
    "+ If some of your Python packages received FAIL, you may need to install and update your Python packages. Follow the [instruction on managing your Python packages](https://conda.io/docs/user-guide/tasks/manage-pkgs.html#installing-packages). \n",
    "+ After you are done, from the menu, select `Kernel>Restart & Run all` to rerun this file and make sure no errors are raised.\n",
    "\n",
    "Please do not forget to prepare before each session by going over the assigned videos and reading material. You should watch all the videos corresponding to each day _before_ attending the session on that day."
   ]
  }
 ],
 "metadata": {
  "anaconda-cloud": {},
  "kernelspec": {
   "display_name": "Python 3",
   "language": "python",
   "name": "python3"
  },
  "language_info": {
   "codemirror_mode": {
    "name": "ipython",
    "version": 2
   },
   "file_extension": ".py",
   "mimetype": "text/x-python",
   "name": "python",
   "nbconvert_exporter": "python",
   "pygments_lexer": "ipython2",
   "version": "2.7.13"
  }
 },
 "nbformat": 4,
 "nbformat_minor": 1
}
